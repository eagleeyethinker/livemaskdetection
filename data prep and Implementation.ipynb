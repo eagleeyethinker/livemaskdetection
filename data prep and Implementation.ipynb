{
 "cells": [
  {
   "cell_type": "code",
   "execution_count": 9,
   "metadata": {},
   "outputs": [],
   "source": [
    "import os\n",
    "import shutil\n",
    "from os.path import join\n",
    "import glob\n",
    "Folder = '/Users/nikhi/Desktop/cps/RMFD/self-built-masked-face-recognition-dataset/AFDB_face_dataset/*/*'\n",
    "Folder1 = '/Users/nikhi/Desktop/cps/RMFD/self-built-masked-face-recognition-dataset/AFDB_masked_face_dataset/*/*'\n",
    "des ='/Users/nikhi/Desktop/cps/RMFD/self-built-masked-face-recognition-dataset/data/unmasked/' \n",
    "des1 = '/Users/nikhi/Desktop/cps/RMFD/self-built-masked-face-recognition-dataset/data/mask/' \n",
    "for img in glob.glob(Folder1):\n",
    "    shutil.copy(img, des1)\n",
    "masklen = len(os.listdir(des1))\n",
    "print(masklen)\n",
    "for img in glob.glob(Folder):\n",
    "    shutil.copy(img, des)\n",
    "    unmasklen = len(os.listdir(des))\n",
    "    if unmasklen >= masklen:\n",
    "        break\n"
   ]
  },
  {
   "cell_type": "code",
   "execution_count": 9,
   "metadata": {},
   "outputs": [],
   "source": [
    "train_dir = '/Users/nikhi/Desktop/cps/RMFD/self-built-masked-face-recognition-dataset/train' #path for train dir\n",
    "validation_dir = '/Users/nikhi/Desktop/cps/RMFD/self-built-masked-face-recognition-dataset/test' # path for val dir\n",
    "\n",
    "train_horses_dir = os.path.join(train_dir, 'unmasked') #instance for label-1 of train\n",
    "train_humans_dir = os.path.join(train_dir, 'mask') #instance for label-2 of train\n",
    "validation_horses_dir = os.path.join(validation_dir, 'unmasked') #instance for label-1 of val\n",
    "validation_humans_dir = os.path.join(validation_dir, 'mask') #instance for label-2 of val\n"
   ]
  },
  {
   "cell_type": "code",
   "execution_count": 10,
   "metadata": {},
   "outputs": [],
   "source": [
    "import random\n",
    "from shutil import copyfile\n",
    "def split_data(SOURCE, TRAINING, TESTING, SPLIT_SIZE):\n",
    "    all_files = []\n",
    "    \n",
    "    for file_name in os.listdir(SOURCE):\n",
    "        file_path = SOURCE + file_name\n",
    "\n",
    "        if os.path.getsize(file_path):\n",
    "            all_files.append(file_name)\n",
    "        else:\n",
    "            print('{} is zero length, so ignoring'.format(file_name))\n",
    "    \n",
    "    n_files = len(all_files)\n",
    "    split_point = int(n_files * SPLIT_SIZE)\n",
    "    \n",
    "    shuffled = random.sample(all_files, n_files)\n",
    "    \n",
    "    train_set = shuffled[:split_point]\n",
    "    test_set = shuffled[split_point:]\n",
    "    \n",
    "    for file_name in train_set:\n",
    "        copyfile(SOURCE + file_name, TRAINING + file_name)\n",
    "        \n",
    "    for file_name in test_set:\n",
    "        copyfile(SOURCE + file_name, TESTING + file_name)\n",
    "\n",
    "\n",
    "unmasked_SOURCE_DIR = \"/Users/nikhi/Desktop/cps/RMFD/self-built-masked-face-recognition-dataset/data/unmasked/\"\n",
    "TRAINING_unmasked_DIR = \"/Users/nikhi/Desktop/cps/RMFD/self-built-masked-face-recognition-dataset/train/unmasked/\"\n",
    "TESTING_unmasked_DIR = \"/Users/nikhi/Desktop/cps/RMFD/self-built-masked-face-recognition-dataset/test/unmasked/\"\n",
    "mask_SOURCE_DIR = \"/Users/nikhi/Desktop/cps/RMFD/self-built-masked-face-recognition-dataset/data/mask/\"\n",
    "TRAINING_mask_DIR = \"/Users/nikhi/Desktop/cps/RMFD/self-built-masked-face-recognition-dataset/train/mask/\"\n",
    "TESTING_mask_DIR = \"/Users/nikhi/Desktop/cps/RMFD/self-built-masked-face-recognition-dataset/test/mask/\"\n",
    "\n",
    "split_size = .6\n",
    "split_data(unmasked_SOURCE_DIR, TRAINING_unmasked_DIR, TESTING_unmasked_DIR, split_size)\n",
    "split_data(mask_SOURCE_DIR, TRAINING_mask_DIR, TESTING_mask_DIR, split_size)\n"
   ]
  },
  {
   "cell_type": "code",
   "execution_count": 11,
   "metadata": {},
   "outputs": [
    {
     "name": "stdout",
     "output_type": "stream",
     "text": [
      "1003\n",
      "1006\n",
      "566\n",
      "569\n"
     ]
    }
   ],
   "source": [
    "# train_dir = '/Users/nikhi/Desktop/cps/RMFD/self-built-masked-face-recognition-dataset/train/unmasked'\n",
    "# train_unmasked_dir = os.path.join(train_dir, 'unmasked')\n",
    "# train_mask_dir = os.path.join(train_dir, 'mask')\n",
    "train_unmasked_fnames = os.listdir('/Users/nikhi/Desktop/cps/RMFD/self-built-masked-face-recognition-dataset/train/unmasked')\n",
    "train_unmasked_fnames = ['unmasked' for x in train_unmasked_fnames]\n",
    "train_mask_fnames = os.listdir('/Users/nikhi/Desktop/cps/RMFD/self-built-masked-face-recognition-dataset/train/mask')\n",
    "train_mask_fnames = ['mask' for x in train_mask_fnames]\n",
    "test_unmasked_fnames = os.listdir('/Users/nikhi/Desktop/cps/RMFD/self-built-masked-face-recognition-dataset/test/unmasked')\n",
    "test_unmasked_fnames = ['unmasked' for x in test_unmasked_fnames]\n",
    "test_mask_fnames = os.listdir('/Users/nikhi/Desktop/cps/RMFD/self-built-masked-face-recognition-dataset/test/mask')\n",
    "test_mask_fnames = ['mask' for x in test_mask_fnames]\n",
    "print(len(train_unmasked_fnames))\n",
    "print(len(train_mask_fnames))\n",
    "print(len(test_unmasked_fnames))\n",
    "print(len(test_mask_fnames))"
   ]
  },
  {
   "cell_type": "code",
   "execution_count": 16,
   "metadata": {},
   "outputs": [],
   "source": [
    "from tensorflow.keras.preprocessing.image import img_to_array\n",
    "from tensorflow.keras.models import load_model\n",
    "model = load_model('maskdetectionmodel.h5')"
   ]
  },
  {
   "cell_type": "code",
   "execution_count": 14,
   "metadata": {},
   "outputs": [],
   "source": [
    "model1 = load_model('simplemaskdetectionmodel.h5')"
   ]
  },
  {
   "cell_type": "code",
   "execution_count": null,
   "metadata": {},
   "outputs": [],
   "source": [
    "import numpy as np\n",
    "import cv2\n",
    "face_clsfr=cv2.CascadeClassifier('haarcascade_frontalface_default.xml')\n",
    "labels_dict={1:'without_mask',0:'with_mask'}\n",
    "color_dict={1:(0,0,255),0:(0,255,0)}\n",
    "\n",
    "size = 4\n",
    "webcam = cv2.VideoCapture(0) #Use camera 0\n",
    "\n",
    "# We load the xml file\n",
    "classifier = cv2.CascadeClassifier('haarcascade_frontalface_default.xml')\n",
    "\n",
    "while True:\n",
    "    (rval, im) = webcam.read()\n",
    "    im=cv2.flip(im,1,1) #Flip to act as a mirror\n",
    "\n",
    "    # Resize the image to speed up detection\n",
    "    mini = cv2.resize(im, (im.shape[1] // size, im.shape[0] // size))\n",
    "\n",
    "    # detect MultiScale / faces \n",
    "    faces = classifier.detectMultiScale(mini)\n",
    "\n",
    "    # Draw rectangles around each face\n",
    "    for f in faces:\n",
    "        (x, y, w, h) = [v * size for v in f] #Scale the shapesize backup\n",
    "        #Save just the rectangle faces in SubRecFaces\n",
    "        face_img = im[y:y+h, x:x+w]\n",
    "        resized=cv2.resize(face_img,(150,150))\n",
    "        normalized=resized/255.0\n",
    "        reshaped=np.reshape(normalized,(1,150,150,3))\n",
    "        reshaped = np.vstack([reshaped])\n",
    "        result=model.predict(reshaped)\n",
    "        result = int(np.where(result > 0.5, 1, 0))\n",
    "        #print(result)\n",
    "        \n",
    "        label= result\n",
    "      \n",
    "        cv2.rectangle(im,(x,y),(x+w,y+h),color_dict[label],2)\n",
    "        cv2.rectangle(im,(x,y-40),(x+w,y),color_dict[label],-1)\n",
    "        cv2.putText(im, labels_dict[label], (x, y-10),cv2.FONT_HERSHEY_SIMPLEX,0.8,(255,255,255),2)\n",
    "        \n",
    "    # Show the image\n",
    "    cv2.imshow('LIVE',   im)\n",
    "    key = cv2.waitKey(10)\n",
    "    # if Esc key is press then break out of the loop \n",
    "    if key == 27: #The Esc key\n",
    "        break\n",
    "# Stop video\n",
    "webcam.release()\n",
    "\n",
    "# Close all started windows\n",
    "cv2.destroyAllWindows()"
   ]
  }
 ],
 "metadata": {
  "kernelspec": {
   "display_name": "Python 3",
   "language": "python",
   "name": "python3"
  },
  "language_info": {
   "codemirror_mode": {
    "name": "ipython",
    "version": 3
   },
   "file_extension": ".py",
   "mimetype": "text/x-python",
   "name": "python",
   "nbconvert_exporter": "python",
   "pygments_lexer": "ipython3",
   "version": "3.7.4"
  }
 },
 "nbformat": 4,
 "nbformat_minor": 2
}
